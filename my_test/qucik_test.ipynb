{
 "cells": [
  {
   "cell_type": "code",
   "execution_count": 10,
   "metadata": {},
   "outputs": [
    {
     "name": "stdout",
     "output_type": "stream",
     "text": [
      "-0.2554931640625\n"
     ]
    }
   ],
   "source": [
    "import gymnasium as gym\n",
    "import pde_control_gym\n",
    "from pde_control_gym.src import TunedReward1D\n",
    "import numpy as np\n",
    "\n",
    "# NO NOISE\n",
    "def noiseFunc(state):\n",
    "        return state\n",
    "\n",
    "\n",
    "# Set initial condition function here\n",
    "def getInitialCondition(nx):\n",
    "        return np.ones(nx) * np.random.uniform(1, 10)\n",
    "\n",
    "\n",
    "# Constant beta function\n",
    "def getBetaFunction(X):\n",
    "        return np.ones(nx)\n",
    "\n",
    "\n",
    "# Timestep and spatial step for PDE Solver\n",
    "T = 5\n",
    "dt = 1e-4\n",
    "dx = 1e-2\n",
    "X = 1\n",
    "\n",
    "reward_class =  TunedReward1D(int(round(T/dt)), -1e-4, 1e2)\n",
    "\n",
    "hyperbolicParameters = {\n",
    "        \"T\": T,\n",
    "        \"dt\": dt,\n",
    "        \"X\": X,\n",
    "        \"dx\": dx,\n",
    "        \"reward_class\": reward_class,\n",
    "        \"normalize\":None,\n",
    "        \"sensing_loc\": \"full\",\n",
    "        \"control_type\": \"Dirchilet\",\n",
    "        \"sensing_type\": None,\n",
    "        \"sensing_noise_func\": lambda state: state,\n",
    "        \"limit_pde_state_size\": True,\n",
    "        \"max_state_value\": 1e10,\n",
    "        \"max_control_value\": 20,\n",
    "        \"reset_init_condition_func\": getInitialCondition,\n",
    "        \"reset_recirculation_func\": getBetaFunction,\n",
    "        \"control_sample_rate\": 0.1,\n",
    "}\n",
    "\n",
    "# Make the hyperbolic PDE gym\n",
    "env = gym.make(\"PDEControlGym-TransportPDE1D\", **hyperbolicParameters)\n",
    "\n",
    "# Run a single environment test case for gamma=7.35\n",
    "terminate = False\n",
    "truncate = False\n",
    "\n",
    "# Reset Environment\n",
    "obs, __ = env.reset()\n",
    "totalReward = 0\n",
    "\n",
    "while not truncate and not terminate:\n",
    "        # 0 action input\n",
    "        obs, rewards, terminate, truncate, info = env.step(0)\n",
    "        totalReward += rewards\n",
    "print(totalReward)"
   ]
  }
 ],
 "metadata": {
  "kernelspec": {
   "display_name": "PDE",
   "language": "python",
   "name": "python3"
  },
  "language_info": {
   "codemirror_mode": {
    "name": "ipython",
    "version": 3
   },
   "file_extension": ".py",
   "mimetype": "text/x-python",
   "name": "python",
   "nbconvert_exporter": "python",
   "pygments_lexer": "ipython3",
   "version": "3.10.14"
  }
 },
 "nbformat": 4,
 "nbformat_minor": 2
}
